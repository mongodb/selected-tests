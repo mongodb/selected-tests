{
 "cells": [
  {
   "cell_type": "code",
   "execution_count": 8,
   "metadata": {},
   "outputs": [
    {
     "name": "stdout",
     "output_type": "stream",
     "text": [
      "Database(MongoClient(host=['selected-tests-shard-00-01-cf7ik.mongodb.net:27017', 'selected-tests-shard-00-02-cf7ik.mongodb.net:27017', 'selected-tests-shard-00-00-cf7ik.mongodb.net:27017'], document_class=dict, tz_aware=False, connect=True, authsource='admin', replicaset='selected-tests-shard-0', ssl=True, retrywrites=True, w='majority'), 'selected_tests')\n",
      "[{'$lookup': {'from': 'test_mappings_test_files', 'localField': '_id', 'foreignField': 'test_mapping_id', 'as': 'test_files'}}, {'$unwind': '$test_files'}, {'$addFields': {'threshold': {'$divide': ['$test_files.test_file_seen_count', '$source_file_seen_count']}}}, {'$group': {'_id': None, 'thresholds': {'$push': '$threshold'}}}]\n",
      "14432\n"
     ]
    }
   ],
   "source": [
    "from pymongo import MongoClient\n",
    "client = MongoClient(os.environ.get(\"SELECTED_TESTS_MONGO_URI\"))\n",
    "\n",
    "db = client.selected_tests\n",
    "pipeline = [{\"$lookup\": {\"from\": \"test_mappings_test_files\", \"localField\": \"_id\",  \"foreignField\": \"test_mapping_id\", \"as\": \"test_files\" }}, {\"$unwind\": \"$test_files\"}, {\"$addFields\": {\"threshold\": {\"$divide\": [\"$test_files.test_file_seen_count\", \"$source_file_seen_count\"]}}}, { \"$group\" : { \"_id\" : None, \"thresholds\": {\"$push\": \"$threshold\"}}}]\n",
    "\n",
    "data = list(db.test_mappings.aggregate(pipeline))\n",
    "threshold = data[0][\"thresholds\"]\n",
    "print(len(threshold))"
   ]
  },
  {
   "cell_type": "code",
   "execution_count": 9,
   "metadata": {},
   "outputs": [
    {
     "data": {
      "image/png": "[encoded data removed]",
      "text/plain": [
       "<Figure size 432x288 with 1 Axes>"
      ]
     },
     "metadata": {
      "needs_background": "light"
     },
     "output_type": "display_data"
    }
   ],
   "source": [
    "from matplotlib import pyplot\n",
    "pyplot.hist(threshold)\n",
    "pyplot.show()"
   ]
  }
 ],
 "metadata": {
  "kernelspec": {
   "display_name": "Python 3",
   "language": "python",
   "name": "python3"
  },
  "language_info": {
   "codemirror_mode": {
    "name": "ipython",
    "version": 3
   },
   "file_extension": ".py",
   "mimetype": "text/x-python",
   "name": "python",
   "nbconvert_exporter": "python",
   "pygments_lexer": "ipython3",
   "version": "3.7.3"
  }
 },
 "nbformat": 4,
 "nbformat_minor": 4
}
