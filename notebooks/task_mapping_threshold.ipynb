{
 "cells": [
  {
   "cell_type": "code",
   "execution_count": 2,
   "metadata": {},
   "outputs": [
    {
     "name": "stdout",
     "output_type": "stream",
     "text": [
      "104128\n"
     ]
    }
   ],
   "source": [
    "from pymongo import MongoClient\n",
    "import os\n",
    "client = MongoClient(os.environ.get(\"SELECTED_TESTS_MONGO_URI\"))\n",
    "\n",
    "db = client.selected_tests\n",
    "pipeline = [{\"$lookup\": {\"from\": \"task_mappings_tasks\", \"localField\": \"_id\",  \"foreignField\": \"task_mapping_id\", \"as\": \"tasks\" }}, {\"$unwind\": \"$tasks\"}, {\"$addFields\": {\"threshold\": {\"$divide\": [\"$tasks.flip_count\", \"$source_file_seen_count\"]}}}]\n",
    "\n",
    "task_mappings = db.task_mappings.aggregate(pipeline)\n",
    "thresholds = []\n",
    "for mapping in task_mappings:\n",
    "    thresholds.append(mapping[\"threshold\"])\n",
    "\n",
    "print(len(thresholds))"
   ]
  },
  {
   "cell_type": "code",
   "execution_count": 4,
   "metadata": {},
   "outputs": [
    {
     "data": {
      "image/png": "[encoded data removed]",
      "text/plain": [
       "<Figure size 432x288 with 1 Axes>"
      ]
     },
     "metadata": {
      "needs_background": "light"
     },
     "output_type": "display_data"
    }
   ],
   "source": [
    "from matplotlib import pyplot\n",
    "pyplot.hist(thresholds)\n",
    "pyplot.show()"
   ]
  },
  {
   "cell_type": "code",
   "execution_count": null,
   "metadata": {},
   "outputs": [],
   "source": [
    "from scipy.stats import normaltest\n",
    "import numpy as np\n",
    "threshold_array = np.array(threshold)\n",
    "\n",
    "stat, p = normaltest(threshold_array)\n",
    "print('Statistics=%.3f, p=%.3f' % (stat, p))\n",
    "# interpret\n",
    "alpha = 0.05\n",
    "if p > alpha:\n",
    "    print('Sample looks Gaussian (fail to reject H0)')\n",
    "else:\n",
    "    print('Sample does not look Gaussian (reject H0)')"
   ]
  },
  {
   "cell_type": "code",
   "execution_count": null,
   "metadata": {},
   "outputs": [],
   "source": []
  }
 ],
 "metadata": {
  "kernelspec": {
   "display_name": "Python 3",
   "language": "python",
   "name": "python3"
  },
  "language_info": {
   "codemirror_mode": {
    "name": "ipython",
    "version": 3
   },
   "file_extension": ".py",
   "mimetype": "text/x-python",
   "name": "python",
   "nbconvert_exporter": "python",
   "pygments_lexer": "ipython3",
   "version": "3.7.3"
  }
 },
 "nbformat": 4,
 "nbformat_minor": 4
}
