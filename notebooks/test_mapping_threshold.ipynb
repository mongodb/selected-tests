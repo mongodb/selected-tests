{
 "cells": [
  {
   "cell_type": "code",
   "execution_count": 1,
   "metadata": {},
   "outputs": [
    {
     "name": "stdout",
     "output_type": "stream",
     "text": [
      "2867876\n"
     ]
    }
   ],
   "source": [
    "from pymongo import MongoClient\n",
    "import os\n",
    "client = MongoClient(os.environ.get(\"SELECTED_TESTS_MONGO_URI\"))\n",
    "\n",
    "db = client.selected_tests\n",
    "pipeline = [{\"$lookup\": {\"from\": \"test_mappings_test_files\", \"localField\": \"_id\",  \"foreignField\": \"test_mapping_id\", \"as\": \"test_files\" }}, {\"$unwind\": \"$test_files\"}, {\"$addFields\": {\"threshold\": {\"$divide\": [\"$test_files.test_file_seen_count\", \"$source_file_seen_count\"]}}}]\n",
    "\n",
    "test_mappings = db.test_mappings.aggregate(pipeline)\n",
    "thresholds = []\n",
    "for mapping in test_mappings:\n",
    "    thresholds.append(mapping[\"threshold\"])\n",
    "\n",
    "print(len(thresholds))"
   ]
  },
  {
   "cell_type": "code",
   "execution_count": 2,
   "metadata": {},
   "outputs": [
    {
     "data": {
      "image/png": "[encoded data removed]",
      "text/plain": [
       "<Figure size 432x288 with 1 Axes>"
      ]
     },
     "metadata": {
      "needs_background": "light"
     },
     "output_type": "display_data"
    }
   ],
   "source": [
    "from matplotlib import pyplot\n",
    "pyplot.hist(thresholds)\n",
    "pyplot.show()"
   ]
  },
  {
   "cell_type": "code",
   "execution_count": null,
   "metadata": {},
   "outputs": [],
   "source": []
  }
 ],
 "metadata": {
  "kernelspec": {
   "display_name": "Python 3",
   "language": "python",
   "name": "python3"
  },
  "language_info": {
   "codemirror_mode": {
    "name": "ipython",
    "version": 3
   },
   "file_extension": ".py",
   "mimetype": "text/x-python",
   "name": "python",
   "nbconvert_exporter": "python",
   "pygments_lexer": "ipython3",
   "version": "3.7.3"
  }
 },
 "nbformat": 4,
 "nbformat_minor": 4
}
